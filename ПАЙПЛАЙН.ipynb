{
 "cells": [
  {
   "cell_type": "markdown",
   "metadata": {},
   "source": [
    "0. Конвертировать все файлы в папке с помощью скрипта и сохранить их в папку MATLABout"
   ]
  },
  {
   "cell_type": "code",
   "execution_count": 61,
   "metadata": {},
   "outputs": [
    {
     "data": {
      "text/plain": [
       "CompletedProcess(args='matlab -nodesktop -nosplash -r \"run(\\'C:\\\\!files\\\\converter_20.m\\'); exit;\"', returncode=0)"
      ]
     },
     "execution_count": 61,
     "metadata": {},
     "output_type": "execute_result"
    }
   ],
   "source": [
    "import subprocess\n",
    "\n",
    "# Define the MATLAB script file path\n",
    "matlab_script_path = r'C:\\!files\\converter_20.m'\n",
    "\n",
    "# Construct the MATLAB command\n",
    "matlab_command = f'matlab -nodesktop -nosplash -r \"run(\\'{matlab_script_path}\\'); exit;\"'\n",
    "\n",
    "# Execute the MATLAB script\n",
    "subprocess.run(matlab_command, shell=True)"
   ]
  },
  {
   "cell_type": "code",
   "execution_count": 62,
   "metadata": {},
   "outputs": [],
   "source": [
    "import os\n",
    "import time\n",
    "import shutil"
   ]
  },
  {
   "cell_type": "markdown",
   "metadata": {},
   "source": [
    "1. Нужно ввести путь к папке и название-таг, под которое потом будет переименован файл\n"
   ]
  },
  {
   "cell_type": "code",
   "execution_count": 63,
   "metadata": {},
   "outputs": [
    {
     "name": "stdout",
     "output_type": "stream",
     "text": [
      "C:\\!files\\MATLABout\n",
      "sub\n"
     ]
    }
   ],
   "source": [
    "# Get the input folder path from the user\n",
    "folder_path = input(\"Enter the folder path: \")\n",
    "\n",
    "# Get the tag from the user\n",
    "tag = input(\"Enter the tag for file sorting: \")\n",
    "len_tag = len(tag)\n",
    "\n",
    "print(folder_path)\n",
    "print(tag)"
   ]
  },
  {
   "cell_type": "markdown",
   "metadata": {},
   "source": [
    "2. Функция которая переименовывает все файлы в исходной папке и сохраняет их в новую папку \"step1\""
   ]
  },
  {
   "cell_type": "code",
   "execution_count": 64,
   "metadata": {},
   "outputs": [
    {
     "name": "stdout",
     "output_type": "stream",
     "text": [
      "Copied 'scaled_scaled_subochev a1.nii' as 'scaled_scaled_subochev a1.nii' to new folder.\n",
      "Copied 'scaled_scaled_subochev d2 (2).nii' as 'scaled_scaled_subochev d2 (2).nii' to new folder.\n",
      "Copied 'scaled_scaled_subochev.nii' as 'scaled_scaled_subochev.nii' to new folder.\n",
      "Copied 'scaled_scaled_subochev_d a (2).nii' as 'scaled_scaled_subochev_d a (2).nii' to new folder.\n",
      "Copied 'scaled_scaled_subochev_d a4.nii' as 'scaled_scaled_subochev_d a4.nii' to new folder.\n",
      "Copied 'scaled_scaled_subochev_d lt12.nii' as 'scaled_scaled_subochev_d lt12.nii' to new folder.\n",
      "Copied 'scaled_scaled_subochev_d p1.nii' as 'scaled_scaled_subochev_d p1.nii' to new folder.\n",
      "Copied 'scaled_scaled_subochev_d.nii' as 'scaled_scaled_subochev_d.nii' to new folder.\n",
      "Copied 'scaled_scaled_subochev_d_nifti_file.nii' as 'scaled_scaled_subochev_d_nifti_file.nii' to new folder.\n",
      "Copied 'scaled_subochev (3).nii' as 'scaled_subochev (3).nii' to new folder.\n",
      "Copied 'scaled_subochev (4).nii' as 'scaled_subochev (4).nii' to new folder.\n",
      "Copied 'scaled_subochev a1.nii' as 'scaled_subochev a1.nii' to new folder.\n"
     ]
    }
   ],
   "source": [
    "\n",
    "\n",
    "def copy_and_rename_files(folder_path, tag):\n",
    "\n",
    "    # Create 'step1' folder if it doesn't exist\n",
    "    step1_folder = os.path.join(folder_path, f'{tag}')\n",
    "    if not os.path.exists(step1_folder):\n",
    "        os.makedirs(step1_folder)\n",
    "\n",
    "    # Get a list of files in the input folder\n",
    "    files = os.listdir(folder_path)\n",
    "\n",
    "    # Sort files by name\n",
    "    files.sort()\n",
    "\n",
    "    # Copy and rename files to 'step1' folder\n",
    "    for i, file_name in enumerate(files):\n",
    "\n",
    "        # Construct the new file name\n",
    "        if tag in file_name:\n",
    "            \n",
    "            file_name_for_strings = file_name.split(\".\")[0]\n",
    "            \n",
    "            #FILE NAMING\n",
    "            new_file_name = f\"{file_name_for_strings}\"\n",
    "\n",
    "            # Get the file extension\n",
    "            file_extension = os.path.splitext(file_name)[1]\n",
    "            \n",
    "            # Create the new file path\n",
    "            new_file_path = os.path.join(step1_folder, new_file_name + file_extension)\n",
    "\n",
    "                # Retry copying the file if it's being used by another process\n",
    "            max_retries = 3\n",
    "            current_retry = 0\n",
    "            while current_retry < max_retries:\n",
    "                    try:\n",
    "                        # Copy and rename the file\n",
    "                        shutil.copy2(os.path.join(folder_path, file_name), new_file_path)\n",
    "                        print(f\"Copied '{file_name}' as '{new_file_name}{file_extension}' to new folder.\")\n",
    "                        break\n",
    "                    except PermissionError:\n",
    "                        #print(f\"Failed to copy '{file_name_for_strings}'.\")\n",
    "                                                                                            #time.sleep(0.1)  # Wait for 1 second before retrying\n",
    "                        current_retry += 1\n",
    "            #else:\n",
    "                    #print(f\"Failed to copy '{file_name}' after {max_retries} retries.\")\n",
    "        else: \n",
    "            print(f'{file_name}  Название не соответствует паттерну')\n",
    "\n",
    "# Call the function to copy and rename the files\n",
    "copy_and_rename_files(folder_path, tag)"
   ]
  },
  {
   "cell_type": "markdown",
   "metadata": {},
   "source": [
    "3. Запустить ячейку и копировать ее вывод в консоль Авизо\n"
   ]
  },
  {
   "cell_type": "code",
   "execution_count": 67,
   "metadata": {},
   "outputs": [
    {
     "name": "stdout",
     "output_type": "stream",
     "text": [
      "new_path = 'C:\\!files\\MATLABout\\sub'\n"
     ]
    }
   ],
   "source": [
    "new_path = f'{folder_path}\\{tag}'\n",
    "print(f\"new_path = '{new_path}'\")"
   ]
  },
  {
   "cell_type": "markdown",
   "metadata": {},
   "source": [
    "4. Не запускать ячейки, копировать весь код из ячейки напрямую в консоль"
   ]
  },
  {
   "cell_type": "markdown",
   "metadata": {},
   "source": [
    "Создаем настройки сразу всем"
   ]
  },
  {
   "cell_type": "code",
   "execution_count": 65,
   "metadata": {},
   "outputs": [
    {
     "ename": "NameError",
     "evalue": "name 'hx_project' is not defined",
     "output_type": "error",
     "traceback": [
      "\u001b[1;31m---------------------------------------------------------------------------\u001b[0m",
      "\u001b[1;31mNameError\u001b[0m                                 Traceback (most recent call last)",
      "Cell \u001b[1;32mIn [65], line 7\u001b[0m\n\u001b[0;32m      5\u001b[0m \u001b[39mfor\u001b[39;00m file \u001b[39min\u001b[39;00m files:\n\u001b[0;32m      6\u001b[0m     file_path \u001b[39m=\u001b[39m os\u001b[39m.\u001b[39mpath\u001b[39m.\u001b[39mjoin(new_path, file)\n\u001b[1;32m----> 7\u001b[0m     some_obj \u001b[39m=\u001b[39m hx_project\u001b[39m.\u001b[39mload(file_path)\n\u001b[0;32m      8\u001b[0m     ortho \u001b[39m=\u001b[39m hx_object_factory\u001b[39m.\u001b[39mcreate(\u001b[39m'\u001b[39m\u001b[39mHxOrthoSlice\u001b[39m\u001b[39m'\u001b[39m)\n\u001b[0;32m      9\u001b[0m     volumeRenderingSettings \u001b[39m=\u001b[39m hx_object_factory\u001b[39m.\u001b[39mcreate(\u001b[39m'\u001b[39m\u001b[39mHxVolumeRenderingSettings\u001b[39m\u001b[39m'\u001b[39m)\n",
      "\u001b[1;31mNameError\u001b[0m: name 'hx_project' is not defined"
     ]
    }
   ],
   "source": [
    "\n",
    "import os\n",
    "\n",
    "files = os.listdir(new_path)\n",
    "\n",
    "for file in files:\n",
    "    file_path = os.path.join(new_path, file)\n",
    "    some_obj = hx_project.load(file_path)\n",
    "    ortho = hx_object_factory.create('HxOrthoSlice')\n",
    "    volumeRenderingSettings = hx_object_factory.create('HxVolumeRenderingSettings')\n",
    "    volumeRender = hx_object_factory.create('HxVolumeRender2')\n",
    "    hx_project.add(ortho)\n",
    "    hx_project.add(volumeRenderingSettings)\n",
    "    hx_project.add(volumeRender)\n",
    "    file=file.replace(' ', '-')\n",
    "    ortho.ports.data.connect(hx_project.get(file))\n",
    "    volumeRenderingSettings.ports.data.connect(hx_project.get(file))\n",
    "    volumeRender.ports.volumeRenderingSettings.connect(volumeRenderingSettings)"
   ]
  },
  {
   "cell_type": "markdown",
   "metadata": {},
   "source": [
    "Прыгающая настройка"
   ]
  },
  {
   "cell_type": "code",
   "execution_count": null,
   "metadata": {},
   "outputs": [],
   "source": [
    "import os\n",
    "\n",
    "files = os.listdir(new_path)\n",
    "\n",
    "for file in files:\n",
    "    file_path = os.path.join(new_path, file)\n",
    "    some_obj = hx_project.load(file_path)\n",
    "    ortho = hx_object_factory.create('HxOrthoSlice')\n",
    "    volumeRenderingSettings = hx_object_factory.create('HxVolumeRenderingSettings')\n",
    "    volumeRender = hx_object_factory.create('HxVolumeRender2')\n",
    "    hx_project.add(ortho)\n",
    "    file=file.replace(' ', '-')\n",
    "    ortho.ports.data.connect(hx_project.get(file))\n",
    "\n",
    "for file in files:\n",
    "    file=file.replace(' ', '-')\n",
    "    \n",
    "    hx_project.add(volumeRenderingSettings)\n",
    "    hx_project.add(volumeRender)\n",
    "    volumeRenderingSettings.ports.data.connect(hx_project.get(file))\n",
    "    volumeRender.ports.volumeRenderingSettings.connect(volumeRenderingSettings)\n",
    "    volumeRenderingSettings.fire()"
   ]
  },
  {
   "cell_type": "code",
   "execution_count": null,
   "metadata": {},
   "outputs": [],
   "source": [
    "new_path = 'C:\\!files\\_'\n",
    "import os\n",
    "\n",
    "files_0 = os.listdir(new_path)\n",
    "files = []\n",
    "\n",
    "#загрузка картинок\n",
    "for file in files_0:\n",
    "    file_path = os.path.join(new_path, file)\n",
    "    some_obj = hx_project.load(file_path)\n",
    "    file = file.replace(\" \", \"-\")\n",
    "    files.append(file)\n",
    "\n",
    "volumeRenderingSettings = hx_object_factory.create('HxVolumeRenderingSettings')\n",
    "volumeRender = hx_object_factory.create('HxVolumeRender2')\n",
    "hx_project.add(volumeRenderingSettings)\n",
    "hx_project.add(volumeRender)\n",
    "\n",
    "volumeRender.ports.volumeRenderingSettings.connect(volumeRenderingSettings)\n",
    "volumeRenderingSettings.ports.data.connect(hx_project.get(file))\n",
    "\n",
    "volumeRender.ports.colormap.auto_adjust_range = False\n",
    "\n",
    "#Загрузка фильров и их параметров\n",
    "for file in files:\n",
    "    #dimentions = hx_object_factory.create('HxImageCrop')\n",
    "    ortho = hx_object_factory.create('HxOrthoSlice')\n",
    "\n",
    "    hx_project.add(ortho)\n",
    "    ortho.ports.data.connect(hx_project.get(file))\n",
    "\n",
    "\n",
    "#прыгающая настройка\n",
    "for file in files:\n",
    "    volumeRenderingSettings.fire()\n",
    "    volumeRenderingSettings.ports.data.connect(hx_project.get(file))\n",
    "    \n",
    "    #volumeRender.ports.volumeRenderingSettings.connect(volumeRenderingSettings)\n",
    "    volumeRenderingSettings.fire()"
   ]
  },
  {
   "cell_type": "markdown",
   "metadata": {},
   "source": [
    "масштабатор\n"
   ]
  },
  {
   "cell_type": "code",
   "execution_count": 52,
   "metadata": {},
   "outputs": [],
   "source": [
    "import nibabel as nib\n",
    "import numpy as np\n",
    "\n",
    "# Load the NIfTI file\n",
    "nifti_file = nib.load('C:\\!files\\subochev_d.nii')\n",
    "\n",
    "# Get the current voxel sizes\n",
    "current_voxel_sizes = nifti_file.header.get_zooms()\n",
    "\n",
    "# Define the target voxel sizes\n",
    "target_voxel_sizes = (7.5, 20, 20)  # in micrometers (um)\n",
    "\n",
    "# Calculate the scaling factors\n",
    "scaling_factors = [target_size / current_size for target_size, current_size in zip(target_voxel_sizes, current_voxel_sizes)]\n",
    "\n",
    "# Scale the image data\n",
    "scaled_data = np.transpose(nifti_file.get_fdata(), axes=(2, 1, 0))\n",
    "\n",
    "# Create the scaled affine matrix\n",
    "scaled_affine = np.copy(nifti_file.affine)\n",
    "scaled_affine[:3, :3] *= scaling_factors\n",
    "scaled_affine[:3, 3] *= scaling_factors[:3]\n",
    "\n",
    "# Create a new NIfTI image with the scaled data and affine\n",
    "scaled_nifti = nib.Nifti1Image(scaled_data, affine=scaled_affine)\n",
    "\n",
    "# Save the scaled NIfTI file\n",
    "nib.save(scaled_nifti, 'C:\\!files\\subochev_d_nifti_file.nii')\n"
   ]
  }
 ],
 "metadata": {
  "kernelspec": {
   "display_name": "Python 3.10.8 64-bit",
   "language": "python",
   "name": "python3"
  },
  "language_info": {
   "codemirror_mode": {
    "name": "ipython",
    "version": 3
   },
   "file_extension": ".py",
   "mimetype": "text/x-python",
   "name": "python",
   "nbconvert_exporter": "python",
   "pygments_lexer": "ipython3",
   "version": "3.10.8"
  },
  "orig_nbformat": 4,
  "vscode": {
   "interpreter": {
    "hash": "76166ee0aeba67162e2718088504f9357283de456324f11719e2ee59432b8cff"
   }
  }
 },
 "nbformat": 4,
 "nbformat_minor": 2
}
